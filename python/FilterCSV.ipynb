{
 "cells": [
  {
   "cell_type": "markdown",
   "metadata": {},
   "source": [
    "### Small script to create a new .csv file with desired columns only"
   ]
  },
  {
   "cell_type": "code",
   "execution_count": 9,
   "metadata": {},
   "outputs": [],
   "source": [
    "import pandas as pd\n",
    "\n",
    "# load original dataset\n",
    "f=pd.read_csv(\"../data/listings_summary.csv\")\n",
    "\n",
    "# define desired columns\n",
    "keep_col = ['id','name','description','transit','host_id','host_since','host_location','host_response_rate','host_is_superhost',\n",
    "           'host_neighbourhood', 'neighbourhood', 'zipcode','latitude','longitude','is_location_exact','room_type','accommodates','bedrooms','beds','amenities',\n",
    "           'square_feet','price', 'weekly_price','monthly_price', 'cleaning_fee', 'minimum_nights', 'maximum_nights', 'number_of_reviews',\n",
    "           'review_scores_rating','review_scores_cleanliness','review_scores_location', 'is_business_travel_ready']\n",
    "\n",
    "# create new dataframe with selected columns only\n",
    "new_f = f[keep_col]\n",
    "\n",
    "# save dataframe as .csv file\n",
    "new_f.to_csv(\"newFile.csv\", index=False)"
   ]
  },
  {
   "cell_type": "code",
   "execution_count": null,
   "metadata": {},
   "outputs": [],
   "source": []
  }
 ],
 "metadata": {
  "kernelspec": {
   "display_name": "Python 3",
   "language": "python",
   "name": "python3"
  },
  "language_info": {
   "codemirror_mode": {
    "name": "ipython",
    "version": 3
   },
   "file_extension": ".py",
   "mimetype": "text/x-python",
   "name": "python",
   "nbconvert_exporter": "python",
   "pygments_lexer": "ipython3",
   "version": "3.7.7"
  }
 },
 "nbformat": 4,
 "nbformat_minor": 4
}
